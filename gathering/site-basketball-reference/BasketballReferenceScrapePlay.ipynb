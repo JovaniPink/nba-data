{
 "cells": [
  {
   "cell_type": "code",
   "execution_count": null,
   "metadata": {},
   "outputs": [],
   "source": [
    "%config IPCompleter.greedy=True\n",
    "\n",
    "# Import the dependencies.\n",
    "import json\n",
    "import re\n",
    "import time\n",
    "\n",
    "import numpy as np\n",
    "import pandas as pd\n",
    "import requests\n",
    "\n",
    "# https://beautiful-soup-4.readthedocs.io/en/latest/\n",
    "from bs4 import BeautifulSoup as bs"
   ]
  },
  {
   "cell_type": "code",
   "execution_count": null,
   "metadata": {},
   "outputs": [],
   "source": [
    "season_id = 2020\n",
    "url = f\"https://www.basketball-reference.com/leagues/NBA_{season_id}_per_game.html\"\n",
    "response = requests.get(url=url)\n",
    "soup = bs(response.content, \"html.parser\")"
   ]
  },
  {
   "cell_type": "code",
   "execution_count": null,
   "metadata": {},
   "outputs": [],
   "source": [
    "soup.findAll(\"tr\", limit=2)"
   ]
  },
  {
   "cell_type": "code",
   "execution_count": null,
   "metadata": {},
   "outputs": [],
   "source": [
    "column_headers = [th.getText() for th in soup.findAll(\"tr\", limit=2)[0].findAll(\"th\")]\n",
    "print(column_headers)\n",
    "column_headers = column_headers[1:]"
   ]
  },
  {
   "cell_type": "code",
   "execution_count": null,
   "metadata": {},
   "outputs": [],
   "source": [
    "data_rows = soup.findAll(\"tr\")[1:]\n",
    "\n",
    "player_data = [\n",
    "    [td.getText() for td in data_rows[i].findAll(\"td\")] for i in range(len(data_rows))\n",
    "]\n",
    "print(len(player_data))\n",
    "#print(player_data)\n",
    "\n",
    "player_data_filtered = list(filter(None, player_data))\n",
    "print(len(player_data_filtered))\n",
    "#print(player_data_filtered)\n",
    "\n",
    "player_ids = [\n",
    "    [td.get(\"data-append-csv\") for td in data_rows[i].findAll(\"td\", attrs={\"data-append-csv\": True})] for i in range(len(data_rows))\n",
    "]\n",
    "print(len(player_ids))\n",
    "#print(player_ids)\n",
    "\n",
    "flat_list = [item for sublist in player_ids for item in sublist]\n",
    "print(len(flat_list))\n",
    "#print(flat_list)"
   ]
  },
  {
   "cell_type": "code",
   "execution_count": null,
   "metadata": {},
   "outputs": [],
   "source": [
    "general_2019_20_df = pd.DataFrame(player_data_filtered, columns=column_headers)\n",
    "general_2019_20_df.head()"
   ]
  },
  {
   "cell_type": "code",
   "execution_count": null,
   "metadata": {},
   "outputs": [],
   "source": [
    "# We want to drop the NaN rows\n",
    "# How to select rows with NaN in particular column?\n",
    "# df.loc[df['Col2'].isnull()] \n",
    "na_reference_df = general_2019_20_df.loc[general_2019_20_df[\"Player\"].isnull()]\n",
    "na_reference_df\n",
    "\n",
    "# Dropped rows where the column Player is equal to NaN\n",
    "general_2019_20_df = general_2019_20_df.loc[~general_2019_20_df[\"Player\"].isin([np.nan])]\n",
    "general_2019_20_df"
   ]
  },
  {
   "cell_type": "code",
   "execution_count": null,
   "metadata": {},
   "outputs": [],
   "source": [
    "# Now add the season date to match the format from NBA Stats at the beginning of the data frame\n",
    "general_2019_20_df.insert(0, \"season_id\", \"2019-20\")\n",
    "general_2019_20_df.head()"
   ]
  },
  {
   "cell_type": "code",
   "execution_count": null,
   "metadata": {},
   "outputs": [],
   "source": [
    "# Now add the player_id\n",
    "general_2019_20_df.insert(1, \"bbref_player_id\", flat_list)\n",
    "general_2019_20_df.head()"
   ]
  },
  {
   "cell_type": "code",
   "execution_count": null,
   "metadata": {},
   "outputs": [],
   "source": [
    "# rename the matching columns\n",
    "rename_these_columns = {\n",
    "    \"Tm\": \"team_abbreviation\",\n",
    "    \"Age\": \"age\",\n",
    "    \"G\": \"gp\",\n",
    "    \"MP\": \"min\",\n",
    "    \"FG\": \"fgm\",\n",
    "    \"FGA\": \"fga\",\n",
    "    \"FG%\": \"fg_pct\",\n",
    "    \"3P\": \"fg3m\",\n",
    "    \"3PA\": \"fg3a\",\n",
    "    \"3P%\": \"fg3_pct\",\n",
    "    \"FT\": \"ftm\",\n",
    "    \"FTA\": \"fta\",\n",
    "    \"FT%\": \"ft_pct\",\n",
    "    \"ORB\": \"oreb\",\n",
    "    \"DRB\": \"dreb\",\n",
    "    \"TRB\": \"reb\",\n",
    "    \"AST\": \"ast\",\n",
    "    \"TOV\": \"tov\",\n",
    "    \"STL\": \"stl\",\n",
    "    \"BLK\": \"blk\",\n",
    "    \"PF\": \"pf\",\n",
    "    \"PTS\": \"pts\",\n",
    "}\n",
    "\n",
    "general_2019_20_df = general_2019_20_df.rename(columns=rename_these_columns, errors=\"raise\")\n",
    "general_2019_20_df = general_2019_20_df.rename(str.lower, axis='columns')\n",
    "general_2019_20_df.head()"
   ]
  },
  {
   "cell_type": "code",
   "execution_count": null,
   "metadata": {},
   "outputs": [],
   "source": [
    "# Save to CSV\n",
    "general_2019_20_df.to_csv(\n",
    "    \"../../data/interim/bbref-general-traditional-2019-20.csv\", index=False\n",
    ")"
   ]
  },
  {
   "cell_type": "code",
   "execution_count": null,
   "metadata": {},
   "outputs": [],
   "source": [
    "url_adv = f\"https://www.basketball-reference.com/leagues/NBA_{season_id}_advanced.html\"\n",
    "response = requests.get(url=url_adv)\n",
    "soup = bs(response.content, \"html.parser\")"
   ]
  },
  {
   "cell_type": "code",
   "execution_count": null,
   "metadata": {},
   "outputs": [],
   "source": [
    "soup.findAll(\"tr\", limit=2)"
   ]
  },
  {
   "cell_type": "code",
   "execution_count": null,
   "metadata": {},
   "outputs": [],
   "source": [
    "column_headers = [th.getText() for th in soup.findAll(\"tr\", limit=2)[0].findAll(\"th\")]\n",
    "column_headers = column_headers[1:]"
   ]
  },
  {
   "cell_type": "code",
   "execution_count": null,
   "metadata": {},
   "outputs": [],
   "source": [
    "data_rows = soup.findAll(\"tr\")[1:]\n",
    "\n",
    "player_data = [\n",
    "    [td.getText() for td in data_rows[i].findAll(\"td\")] for i in range(len(data_rows))\n",
    "]\n",
    "print(len(player_data))\n",
    "#print(player_data)\n",
    "\n",
    "player_data_filtered = list(filter(None, player_data))\n",
    "print(len(player_data_filtered))\n",
    "#print(player_data_filtered)\n",
    "\n",
    "player_ids = [\n",
    "    [td.get(\"data-append-csv\") for td in data_rows[i].findAll(\"td\", attrs={\"data-append-csv\": True})] for i in range(len(data_rows))\n",
    "]\n",
    "print(len(player_ids))\n",
    "#print(player_ids)\n",
    "\n",
    "flat_list = [item for sublist in player_ids for item in sublist]\n",
    "print(len(flat_list))\n",
    "#print(flat_list)"
   ]
  },
  {
   "cell_type": "code",
   "execution_count": null,
   "metadata": {},
   "outputs": [],
   "source": [
    "advanced_2019_20_df = pd.DataFrame(player_data_filtered, columns=column_headers)\n",
    "advanced_2019_20_df.head()"
   ]
  },
  {
   "cell_type": "code",
   "execution_count": null,
   "metadata": {},
   "outputs": [],
   "source": [
    "# We want to drop the NaN rows\n",
    "# How to select rows with NaN in particular column?\n",
    "# df.loc[df['Col2'].isnull()] \n",
    "advanced_na_reference_df = advanced_2019_20_df.loc[advanced_2019_20_df[\"Player\"].isnull()]\n",
    "advanced_na_reference_df\n",
    "\n",
    "# Dropped rows where the column Player is equal to NaN\n",
    "advanced_2019_20_df = advanced_2019_20_df.loc[~advanced_2019_20_df[\"Player\"].isin([np.nan])]\n",
    "advanced_2019_20_df"
   ]
  },
  {
   "cell_type": "code",
   "execution_count": null,
   "metadata": {},
   "outputs": [],
   "source": [
    "# Now add the season date to match the format from NBA Stats at the beginning of the data frame\n",
    "advanced_2019_20_df.insert(0, \"season_id\", \"2019-20\")\n",
    "advanced_2019_20_df.head()"
   ]
  },
  {
   "cell_type": "code",
   "execution_count": null,
   "metadata": {},
   "outputs": [],
   "source": [
    "# Now add the player_id\n",
    "advanced_2019_20_df.insert(1, \"bbref_player_id\", flat_list)\n",
    "advanced_2019_20_df.head()"
   ]
  },
  {
   "cell_type": "code",
   "execution_count": null,
   "metadata": {},
   "outputs": [],
   "source": [
    "# Figure out Columns\n",
    "print(advanced_2019_20_df.columns.values.tolist())"
   ]
  },
  {
   "cell_type": "code",
   "execution_count": null,
   "metadata": {},
   "outputs": [],
   "source": [
    "# rename the matching columns\n",
    "rename_these_columns = {\n",
    "    \"Tm\": \"team_abbreviation\",\n",
    "    \"G\": \"gp\",\n",
    "    \"MP\": \"min\",\n",
    "}\n",
    "\n",
    "advanced_2019_20_df = advanced_2019_20_df.rename(columns=rename_these_columns, errors=\"raise\")\n",
    "advanced_2019_20_df = advanced_2019_20_df.rename(str.lower, axis='columns')\n",
    "advanced_2019_20_df.head()"
   ]
  },
  {
   "cell_type": "code",
   "execution_count": null,
   "metadata": {},
   "outputs": [],
   "source": [
    "# Save to CSV\n",
    "advanced_2019_20_df.to_csv(\n",
    "    \"../../data/interim/bbref-general-advanced-2019-20.csv\", index=False\n",
    ")"
   ]
  },
  {
   "cell_type": "code",
   "execution_count": null,
   "metadata": {},
   "outputs": [],
   "source": [
    "general_2019_20_df = general_2019_20_df[general_2019_20_df[\"player\"].notnull()]\n",
    "\n",
    "general_2019_20_df = general_2019_20_df[:].fillna(0)\n",
    "\n",
    "general_2019_20_df = general_2019_20_df.drop_duplicates([\"player\"], keep=\"first\")"
   ]
  },
  {
   "cell_type": "code",
   "execution_count": null,
   "metadata": {},
   "outputs": [],
   "source": [
    "advanced_2019_20_df = advanced_2019_20_df[advanced_2019_20_df[\"player\"].notnull()]\n",
    "\n",
    "advanced_2019_20_df = advanced_2019_20_df[:].fillna(0)\n",
    "\n",
    "advanced_2019_20_df = advanced_2019_20_df.drop_duplicates([\"player\"], keep=\"first\")"
   ]
  },
  {
   "cell_type": "code",
   "execution_count": null,
   "metadata": {},
   "outputs": [],
   "source": [
    "complete_2019_20_stats_df = pd.merge(\n",
    "    general_2019_20_df, advanced_2019_20_df, on=\"player\"\n",
    ")"
   ]
  },
  {
   "cell_type": "code",
   "execution_count": null,
   "metadata": {},
   "outputs": [],
   "source": [
    "complete_2019_20_stats_df"
   ]
  },
  {
   "cell_type": "code",
   "execution_count": null,
   "metadata": {},
   "outputs": [],
   "source": [
    "# Save to CSV\n",
    "complete_2019_20_stats_df.to_csv(\n",
    "    \"../../data/interim/bbref-general-complete-2019-20.csv\", index=False\n",
    ")"
   ]
  },
  {
   "cell_type": "code",
   "execution_count": null,
   "metadata": {},
   "outputs": [],
   "source": []
  }
 ],
 "metadata": {
  "kernelspec": {
   "display_name": "Python 3",
   "language": "python",
   "name": "python3"
  },
  "language_info": {
   "codemirror_mode": {
    "name": "ipython",
    "version": 3
   },
   "file_extension": ".py",
   "mimetype": "text/x-python",
   "name": "python",
   "nbconvert_exporter": "python",
   "pygments_lexer": "ipython3",
   "version": "3.7.9"
  }
 },
 "nbformat": 4,
 "nbformat_minor": 4
}