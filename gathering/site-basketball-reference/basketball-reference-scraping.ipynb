{
 "cells": [
  {
   "cell_type": "code",
   "execution_count": 1,
   "metadata": {},
   "outputs": [],
   "source": [
    "from urllib.request import urlopen\n",
    "from bs4 import BeautifulSoup\n",
    "import pandas as pd\n",
    "\n",
    "import warnings \n",
    "from sklearn.exceptions import ConvergenceWarning\n",
    "# Filter out warnings from models\n",
    "warnings.filterwarnings('ignore', category = ConvergenceWarning)\n",
    "warnings.filterwarnings('ignore', category = DeprecationWarning)\n",
    "warnings.filterwarnings('ignore', category = UserWarning)"
   ]
  },
  {
   "cell_type": "code",
   "execution_count": 2,
   "metadata": {},
   "outputs": [],
   "source": [
    "year = 2019\n",
    "url = \"https://www.basketball-reference.com/leagues/NBA_{}_per_game.html\".format(year)\n",
    "html = urlopen(url)\n",
    "soup = BeautifulSoup(html)"
   ]
  },
  {
   "cell_type": "code",
   "execution_count": 3,
   "metadata": {},
   "outputs": [
    {
     "output_type": "execute_result",
     "data": {
      "text/plain": [
       "[<tr>\n",
       " <th aria-label=\"Rank\" class=\"ranker poptip sort_default_asc show_partial_when_sorting center\" data-stat=\"ranker\" data-tip=\"Rank\" scope=\"col\">Rk</th>\n",
       " <th aria-label=\"Player\" class=\"poptip sort_default_asc center\" data-stat=\"player\" scope=\"col\">Player</th>\n",
       " <th aria-label=\"Position\" class=\"poptip sort_default_asc center\" data-stat=\"pos\" data-tip=\"Position\" scope=\"col\">Pos</th>\n",
       " <th aria-label=\"Player's age on February 1 of the season\" class=\"poptip sort_default_asc center\" data-stat=\"age\" data-tip=\"Player's age on February 1 of the season\" scope=\"col\">Age</th>\n",
       " <th aria-label=\"Team\" class=\"poptip sort_default_asc center\" data-stat=\"team_id\" data-tip=\"Team\" scope=\"col\">Tm</th>\n",
       " <th aria-label=\"Games\" class=\"poptip center\" data-stat=\"g\" data-tip=\"Games\" scope=\"col\">G</th>\n",
       " <th aria-label=\"Games Started\" class=\"poptip center\" data-stat=\"gs\" data-tip=\"Games Started\" scope=\"col\">GS</th>\n",
       " <th aria-label=\"Minutes Played Per Game\" class=\"poptip hide_non_quals center\" data-stat=\"mp_per_g\" data-tip=\"Minutes Played Per Game\" scope=\"col\">MP</th>\n",
       " <th aria-label=\"Field Goals Per Game\" class=\"poptip hide_non_quals center\" data-stat=\"fg_per_g\" data-tip=\"Field Goals Per Game\" scope=\"col\">FG</th>\n",
       " <th aria-label=\"Field Goal Attempts Per Game\" class=\"poptip hide_non_quals center\" data-stat=\"fga_per_g\" data-tip=\"Field Goal Attempts Per Game\" scope=\"col\">FGA</th>\n",
       " <th aria-label=\"Field Goal Percentage\" class=\"poptip hide_non_quals center\" data-stat=\"fg_pct\" data-tip=\"Field Goal Percentage\" scope=\"col\">FG%</th>\n",
       " <th aria-label=\"3-Point Field Goals Per Game\" class=\"poptip hide_non_quals center\" data-stat=\"fg3_per_g\" data-tip=\"3-Point Field Goals Per Game\" scope=\"col\">3P</th>\n",
       " <th aria-label=\"3-Point Field Goal Attempts Per Game\" class=\"poptip hide_non_quals center\" data-stat=\"fg3a_per_g\" data-tip=\"3-Point Field Goal Attempts Per Game\" scope=\"col\">3PA</th>\n",
       " <th aria-label=\"3-Point Field Goal Percentage\" class=\"poptip hide_non_quals center\" data-stat=\"fg3_pct\" data-tip=\"3-Point Field Goal Percentage\" scope=\"col\">3P%</th>\n",
       " <th aria-label=\"2-Point Field Goals Per Game\" class=\"poptip hide_non_quals center\" data-stat=\"fg2_per_g\" data-tip=\"2-Point Field Goals Per Game\" scope=\"col\">2P</th>\n",
       " <th aria-label=\"2-Point Field Goal Attempts Per Game\" class=\"poptip hide_non_quals center\" data-stat=\"fg2a_per_g\" data-tip=\"2-Point Field Goal Attempts Per Game\" scope=\"col\">2PA</th>\n",
       " <th aria-label=\"2-Point Field Goal Percentage\" class=\"poptip hide_non_quals center\" data-stat=\"fg2_pct\" data-tip=\"2-Point Field Goal Percentage\" scope=\"col\">2P%</th>\n",
       " <th aria-label=\"Effective Field Goal Percentage\" class=\"poptip hide_non_quals center\" data-stat=\"efg_pct\" data-tip=\"&lt;strong&gt;Effective Field Goal Percentage&lt;/strong&gt;&lt;br&gt;This statistic adjusts for the fact that a 3-point field goal is worth one more point than a 2-point field goal.\" scope=\"col\">eFG%</th>\n",
       " <th aria-label=\"Free Throws Per Game\" class=\"poptip hide_non_quals center\" data-stat=\"ft_per_g\" data-tip=\"Free Throws Per Game\" scope=\"col\">FT</th>\n",
       " <th aria-label=\"Free Throw Attempts Per Game\" class=\"poptip hide_non_quals center\" data-stat=\"fta_per_g\" data-tip=\"Free Throw Attempts Per Game\" scope=\"col\">FTA</th>\n",
       " <th aria-label=\"Free Throw Percentage\" class=\"poptip hide_non_quals center\" data-stat=\"ft_pct\" data-tip=\"Free Throw Percentage\" scope=\"col\">FT%</th>\n",
       " <th aria-label=\"Offensive Rebounds Per Game\" class=\"poptip hide_non_quals center\" data-stat=\"orb_per_g\" data-tip=\"Offensive Rebounds Per Game\" scope=\"col\">ORB</th>\n",
       " <th aria-label=\"Defensive Rebounds Per Game\" class=\"poptip hide_non_quals center\" data-stat=\"drb_per_g\" data-tip=\"Defensive Rebounds Per Game\" scope=\"col\">DRB</th>\n",
       " <th aria-label=\"Total Rebounds Per Game\" class=\"poptip hide_non_quals center\" data-stat=\"trb_per_g\" data-tip=\"Total Rebounds Per Game\" scope=\"col\">TRB</th>\n",
       " <th aria-label=\"Assists Per Game\" class=\"poptip hide_non_quals center\" data-stat=\"ast_per_g\" data-tip=\"Assists Per Game\" scope=\"col\">AST</th>\n",
       " <th aria-label=\"Steals Per Game\" class=\"poptip hide_non_quals center\" data-stat=\"stl_per_g\" data-tip=\"Steals Per Game\" scope=\"col\">STL</th>\n",
       " <th aria-label=\"Blocks Per Game\" class=\"poptip hide_non_quals center\" data-stat=\"blk_per_g\" data-tip=\"Blocks Per Game\" scope=\"col\">BLK</th>\n",
       " <th aria-label=\"Turnovers Per Game\" class=\"poptip hide_non_quals center\" data-stat=\"tov_per_g\" data-tip=\"Turnovers Per Game\" scope=\"col\">TOV</th>\n",
       " <th aria-label=\"Personal Fouls Per Game\" class=\"poptip hide_non_quals center\" data-stat=\"pf_per_g\" data-tip=\"Personal Fouls Per Game\" scope=\"col\">PF</th>\n",
       " <th aria-label=\"Points Per Game\" class=\"poptip hide_non_quals center\" data-stat=\"pts_per_g\" data-tip=\"Points Per Game\" scope=\"col\">PTS</th>\n",
       " </tr>,\n",
       " <tr class=\"full_table\"><th class=\"right\" csk=\"1\" data-stat=\"ranker\" scope=\"row\">1</th><td class=\"left\" csk=\"Abrines,Álex\" data-append-csv=\"abrinal01\" data-stat=\"player\"><a href=\"/players/a/abrinal01.html\">Álex Abrines</a></td><td class=\"center\" data-stat=\"pos\">SG</td><td class=\"right\" data-stat=\"age\">25</td><td class=\"left\" data-stat=\"team_id\"><a href=\"/teams/OKC/2019.html\">OKC</a></td><td class=\"right\" data-stat=\"g\">31</td><td class=\"right\" data-stat=\"gs\">2</td><td class=\"right non_qual\" data-stat=\"mp_per_g\">19.0</td><td class=\"right non_qual\" data-stat=\"fg_per_g\">1.8</td><td class=\"right non_qual\" data-stat=\"fga_per_g\">5.1</td><td class=\"right non_qual\" data-stat=\"fg_pct\">.357</td><td class=\"right non_qual\" data-stat=\"fg3_per_g\">1.3</td><td class=\"right non_qual\" data-stat=\"fg3a_per_g\">4.1</td><td class=\"right non_qual\" data-stat=\"fg3_pct\">.323</td><td class=\"right non_qual\" data-stat=\"fg2_per_g\">0.5</td><td class=\"right non_qual\" data-stat=\"fg2a_per_g\">1.0</td><td class=\"right non_qual\" data-stat=\"fg2_pct\">.500</td><td class=\"right non_qual\" data-stat=\"efg_pct\">.487</td><td class=\"right non_qual\" data-stat=\"ft_per_g\">0.4</td><td class=\"right non_qual\" data-stat=\"fta_per_g\">0.4</td><td class=\"right non_qual\" data-stat=\"ft_pct\">.923</td><td class=\"right non_qual\" data-stat=\"orb_per_g\">0.2</td><td class=\"right non_qual\" data-stat=\"drb_per_g\">1.4</td><td class=\"right non_qual\" data-stat=\"trb_per_g\">1.5</td><td class=\"right non_qual\" data-stat=\"ast_per_g\">0.6</td><td class=\"right non_qual\" data-stat=\"stl_per_g\">0.5</td><td class=\"right non_qual\" data-stat=\"blk_per_g\">0.2</td><td class=\"right non_qual\" data-stat=\"tov_per_g\">0.5</td><td class=\"right non_qual\" data-stat=\"pf_per_g\">1.7</td><td class=\"right non_qual\" data-stat=\"pts_per_g\">5.3</td></tr>]"
      ]
     },
     "metadata": {},
     "execution_count": 3
    }
   ],
   "source": [
    "soup.findAll('tr', limit=2)"
   ]
  },
  {
   "cell_type": "code",
   "execution_count": 4,
   "metadata": {},
   "outputs": [],
   "source": [
    "column_headers = [th.getText() for th in soup.findAll('tr', limit=2)[0].findAll('th')]\n",
    "column_headers = column_headers[1:]"
   ]
  },
  {
   "cell_type": "code",
   "execution_count": 5,
   "metadata": {},
   "outputs": [],
   "source": [
    "data_rows = soup.findAll('tr')[2:]\n",
    "type(data_rows)\n",
    "player_data = [[td.getText() for td in data_rows[i].findAll('td')]\n",
    "            for i in range(len(data_rows))]"
   ]
  },
  {
   "cell_type": "code",
   "execution_count": 6,
   "metadata": {},
   "outputs": [],
   "source": [
    "basic_2019 = pd.DataFrame(player_data, columns=column_headers)"
   ]
  },
  {
   "cell_type": "code",
   "execution_count": 7,
   "metadata": {},
   "outputs": [
    {
     "output_type": "execute_result",
     "data": {
      "text/plain": [
       "           Player Pos Age   Tm   G  GS    MP   FG   FGA   FG%  ...    FT%  \\\n",
       "0      Quincy Acy  PF  28  PHO  10   0  12.3  0.4   1.8  .222  ...   .700   \n",
       "1    Jaylen Adams  PG  22  ATL  34   1  12.6  1.1   3.2  .345  ...   .778   \n",
       "2    Steven Adams   C  25  OKC  80  80  33.4  6.0  10.1  .595  ...   .500   \n",
       "3     Bam Adebayo   C  21  MIA  82  28  23.3  3.4   5.9  .576  ...   .735   \n",
       "4       Deng Adel  SF  21  CLE  19   3  10.2  0.6   1.9  .306  ...  1.000   \n",
       "..            ...  ..  ..  ...  ..  ..   ...  ...   ...   ...  ...    ...   \n",
       "728  Tyler Zeller   C  29  MEM   4   1  20.5  4.0   7.0  .571  ...   .778   \n",
       "729    Ante Žižić   C  22  CLE  59  25  18.3  3.1   5.6  .553  ...   .705   \n",
       "730   Ivica Zubac   C  21  TOT  59  37  17.6  3.6   6.4  .559  ...   .802   \n",
       "731   Ivica Zubac   C  21  LAL  33  12  15.6  3.4   5.8  .580  ...   .864   \n",
       "732   Ivica Zubac   C  21  LAC  26  25  20.2  3.8   7.2  .538  ...   .733   \n",
       "\n",
       "     ORB  DRB  TRB  AST  STL  BLK  TOV   PF   PTS  \n",
       "0    0.3  2.2  2.5  0.8  0.1  0.4  0.4  2.4   1.7  \n",
       "1    0.3  1.4  1.8  1.9  0.4  0.1  0.8  1.3   3.2  \n",
       "2    4.9  4.6  9.5  1.6  1.5  1.0  1.7  2.6  13.9  \n",
       "3    2.0  5.3  7.3  2.2  0.9  0.8  1.5  2.5   8.9  \n",
       "4    0.2  0.8  1.0  0.3  0.1  0.2  0.3  0.7   1.7  \n",
       "..   ...  ...  ...  ...  ...  ...  ...  ...   ...  \n",
       "728  2.3  2.3  4.5  0.8  0.3  0.8  1.0  4.0  11.5  \n",
       "729  1.8  3.6  5.4  0.9  0.2  0.4  1.0  1.9   7.8  \n",
       "730  1.9  4.2  6.1  1.1  0.2  0.9  1.2  2.3   8.9  \n",
       "731  1.6  3.3  4.9  0.8  0.1  0.8  1.0  2.2   8.5  \n",
       "732  2.3  5.3  7.7  1.5  0.4  0.9  1.4  2.5   9.4  \n",
       "\n",
       "[733 rows x 29 columns]"
      ],
      "text/html": "<div>\n<style scoped>\n    .dataframe tbody tr th:only-of-type {\n        vertical-align: middle;\n    }\n\n    .dataframe tbody tr th {\n        vertical-align: top;\n    }\n\n    .dataframe thead th {\n        text-align: right;\n    }\n</style>\n<table border=\"1\" class=\"dataframe\">\n  <thead>\n    <tr style=\"text-align: right;\">\n      <th></th>\n      <th>Player</th>\n      <th>Pos</th>\n      <th>Age</th>\n      <th>Tm</th>\n      <th>G</th>\n      <th>GS</th>\n      <th>MP</th>\n      <th>FG</th>\n      <th>FGA</th>\n      <th>FG%</th>\n      <th>...</th>\n      <th>FT%</th>\n      <th>ORB</th>\n      <th>DRB</th>\n      <th>TRB</th>\n      <th>AST</th>\n      <th>STL</th>\n      <th>BLK</th>\n      <th>TOV</th>\n      <th>PF</th>\n      <th>PTS</th>\n    </tr>\n  </thead>\n  <tbody>\n    <tr>\n      <th>0</th>\n      <td>Quincy Acy</td>\n      <td>PF</td>\n      <td>28</td>\n      <td>PHO</td>\n      <td>10</td>\n      <td>0</td>\n      <td>12.3</td>\n      <td>0.4</td>\n      <td>1.8</td>\n      <td>.222</td>\n      <td>...</td>\n      <td>.700</td>\n      <td>0.3</td>\n      <td>2.2</td>\n      <td>2.5</td>\n      <td>0.8</td>\n      <td>0.1</td>\n      <td>0.4</td>\n      <td>0.4</td>\n      <td>2.4</td>\n      <td>1.7</td>\n    </tr>\n    <tr>\n      <th>1</th>\n      <td>Jaylen Adams</td>\n      <td>PG</td>\n      <td>22</td>\n      <td>ATL</td>\n      <td>34</td>\n      <td>1</td>\n      <td>12.6</td>\n      <td>1.1</td>\n      <td>3.2</td>\n      <td>.345</td>\n      <td>...</td>\n      <td>.778</td>\n      <td>0.3</td>\n      <td>1.4</td>\n      <td>1.8</td>\n      <td>1.9</td>\n      <td>0.4</td>\n      <td>0.1</td>\n      <td>0.8</td>\n      <td>1.3</td>\n      <td>3.2</td>\n    </tr>\n    <tr>\n      <th>2</th>\n      <td>Steven Adams</td>\n      <td>C</td>\n      <td>25</td>\n      <td>OKC</td>\n      <td>80</td>\n      <td>80</td>\n      <td>33.4</td>\n      <td>6.0</td>\n      <td>10.1</td>\n      <td>.595</td>\n      <td>...</td>\n      <td>.500</td>\n      <td>4.9</td>\n      <td>4.6</td>\n      <td>9.5</td>\n      <td>1.6</td>\n      <td>1.5</td>\n      <td>1.0</td>\n      <td>1.7</td>\n      <td>2.6</td>\n      <td>13.9</td>\n    </tr>\n    <tr>\n      <th>3</th>\n      <td>Bam Adebayo</td>\n      <td>C</td>\n      <td>21</td>\n      <td>MIA</td>\n      <td>82</td>\n      <td>28</td>\n      <td>23.3</td>\n      <td>3.4</td>\n      <td>5.9</td>\n      <td>.576</td>\n      <td>...</td>\n      <td>.735</td>\n      <td>2.0</td>\n      <td>5.3</td>\n      <td>7.3</td>\n      <td>2.2</td>\n      <td>0.9</td>\n      <td>0.8</td>\n      <td>1.5</td>\n      <td>2.5</td>\n      <td>8.9</td>\n    </tr>\n    <tr>\n      <th>4</th>\n      <td>Deng Adel</td>\n      <td>SF</td>\n      <td>21</td>\n      <td>CLE</td>\n      <td>19</td>\n      <td>3</td>\n      <td>10.2</td>\n      <td>0.6</td>\n      <td>1.9</td>\n      <td>.306</td>\n      <td>...</td>\n      <td>1.000</td>\n      <td>0.2</td>\n      <td>0.8</td>\n      <td>1.0</td>\n      <td>0.3</td>\n      <td>0.1</td>\n      <td>0.2</td>\n      <td>0.3</td>\n      <td>0.7</td>\n      <td>1.7</td>\n    </tr>\n    <tr>\n      <th>...</th>\n      <td>...</td>\n      <td>...</td>\n      <td>...</td>\n      <td>...</td>\n      <td>...</td>\n      <td>...</td>\n      <td>...</td>\n      <td>...</td>\n      <td>...</td>\n      <td>...</td>\n      <td>...</td>\n      <td>...</td>\n      <td>...</td>\n      <td>...</td>\n      <td>...</td>\n      <td>...</td>\n      <td>...</td>\n      <td>...</td>\n      <td>...</td>\n      <td>...</td>\n      <td>...</td>\n    </tr>\n    <tr>\n      <th>728</th>\n      <td>Tyler Zeller</td>\n      <td>C</td>\n      <td>29</td>\n      <td>MEM</td>\n      <td>4</td>\n      <td>1</td>\n      <td>20.5</td>\n      <td>4.0</td>\n      <td>7.0</td>\n      <td>.571</td>\n      <td>...</td>\n      <td>.778</td>\n      <td>2.3</td>\n      <td>2.3</td>\n      <td>4.5</td>\n      <td>0.8</td>\n      <td>0.3</td>\n      <td>0.8</td>\n      <td>1.0</td>\n      <td>4.0</td>\n      <td>11.5</td>\n    </tr>\n    <tr>\n      <th>729</th>\n      <td>Ante Žižić</td>\n      <td>C</td>\n      <td>22</td>\n      <td>CLE</td>\n      <td>59</td>\n      <td>25</td>\n      <td>18.3</td>\n      <td>3.1</td>\n      <td>5.6</td>\n      <td>.553</td>\n      <td>...</td>\n      <td>.705</td>\n      <td>1.8</td>\n      <td>3.6</td>\n      <td>5.4</td>\n      <td>0.9</td>\n      <td>0.2</td>\n      <td>0.4</td>\n      <td>1.0</td>\n      <td>1.9</td>\n      <td>7.8</td>\n    </tr>\n    <tr>\n      <th>730</th>\n      <td>Ivica Zubac</td>\n      <td>C</td>\n      <td>21</td>\n      <td>TOT</td>\n      <td>59</td>\n      <td>37</td>\n      <td>17.6</td>\n      <td>3.6</td>\n      <td>6.4</td>\n      <td>.559</td>\n      <td>...</td>\n      <td>.802</td>\n      <td>1.9</td>\n      <td>4.2</td>\n      <td>6.1</td>\n      <td>1.1</td>\n      <td>0.2</td>\n      <td>0.9</td>\n      <td>1.2</td>\n      <td>2.3</td>\n      <td>8.9</td>\n    </tr>\n    <tr>\n      <th>731</th>\n      <td>Ivica Zubac</td>\n      <td>C</td>\n      <td>21</td>\n      <td>LAL</td>\n      <td>33</td>\n      <td>12</td>\n      <td>15.6</td>\n      <td>3.4</td>\n      <td>5.8</td>\n      <td>.580</td>\n      <td>...</td>\n      <td>.864</td>\n      <td>1.6</td>\n      <td>3.3</td>\n      <td>4.9</td>\n      <td>0.8</td>\n      <td>0.1</td>\n      <td>0.8</td>\n      <td>1.0</td>\n      <td>2.2</td>\n      <td>8.5</td>\n    </tr>\n    <tr>\n      <th>732</th>\n      <td>Ivica Zubac</td>\n      <td>C</td>\n      <td>21</td>\n      <td>LAC</td>\n      <td>26</td>\n      <td>25</td>\n      <td>20.2</td>\n      <td>3.8</td>\n      <td>7.2</td>\n      <td>.538</td>\n      <td>...</td>\n      <td>.733</td>\n      <td>2.3</td>\n      <td>5.3</td>\n      <td>7.7</td>\n      <td>1.5</td>\n      <td>0.4</td>\n      <td>0.9</td>\n      <td>1.4</td>\n      <td>2.5</td>\n      <td>9.4</td>\n    </tr>\n  </tbody>\n</table>\n<p>733 rows × 29 columns</p>\n</div>"
     },
     "metadata": {},
     "execution_count": 7
    }
   ],
   "source": [
    "basic_2019"
   ]
  },
  {
   "cell_type": "code",
   "execution_count": 8,
   "metadata": {},
   "outputs": [],
   "source": [
    "year = 2019\n",
    "url = \"https://www.basketball-reference.com/leagues/NBA_{}_advanced.html\".format(year)\n",
    "# this is the html from the given url\n",
    "html = urlopen(url)\n",
    "soup = BeautifulSoup(html)\n",
    "type(soup)\n",
    "soup.findAll('tr', limit=2)\n",
    "column_headers = [th.getText() for th in soup.findAll('tr', limit=2)[0].findAll('th')]\n",
    "column_headers = column_headers[1:]\n",
    "data_rows = soup.findAll('tr')[2:]\n",
    "type(data_rows)\n",
    "player_data = [[td.getText() for td in data_rows[i].findAll('td')]\n",
    "            for i in range(len(data_rows))]\n",
    "\n",
    "\n",
    "\n",
    "advanced_2019 = pd.DataFrame(player_data, columns=column_headers)"
   ]
  },
  {
   "cell_type": "code",
   "execution_count": 9,
   "metadata": {},
   "outputs": [
    {
     "output_type": "execute_result",
     "data": {
      "text/plain": [
       "           Player Pos Age   Tm   G    MP   PER   TS%  3PAr   FTr  ...     \\\n",
       "0      Quincy Acy  PF  28  PHO  10   123   2.9  .379  .833  .556  ...      \n",
       "1    Jaylen Adams  PG  22  ATL  34   428   7.6  .474  .673  .082  ...      \n",
       "2    Steven Adams   C  25  OKC  80  2669  18.5  .591  .002  .361  ...      \n",
       "3     Bam Adebayo   C  21  MIA  82  1913  17.9  .623  .031  .465  ...      \n",
       "4       Deng Adel  SF  21  CLE  19   194   2.7  .424  .639  .111  ...      \n",
       "..            ...  ..  ..  ...  ..   ...   ...   ...   ...   ...  ... ..   \n",
       "728  Tyler Zeller   C  29  MEM   4    82  19.4  .640  .000  .643  ...      \n",
       "729    Ante Žižić   C  22  CLE  59  1082  16.2  .590  .000  .399  ...      \n",
       "730   Ivica Zubac   C  21  TOT  59  1040  18.9  .604  .000  .332  ...      \n",
       "731   Ivica Zubac   C  21  LAL  33   516  19.5  .633  .000  .342  ...      \n",
       "732   Ivica Zubac   C  21  LAC  26   524  18.3  .574  .000  .323  ...      \n",
       "\n",
       "      OWS  DWS    WS   WS/48     OBPM  DBPM   BPM  VORP  \n",
       "0    -0.1  0.0  -0.1  -0.022     -7.6  -0.5  -8.1  -0.2  \n",
       "1    -0.1  0.2   0.1    .011     -3.8  -0.5  -4.3  -0.2  \n",
       "2     5.1  4.0   9.1    .163      0.7   0.4   1.1   2.1  \n",
       "3     3.4  3.4   6.8    .171     -0.4   2.2   1.8   1.8  \n",
       "4    -0.2  0.0  -0.2  -0.054     -6.0  -1.6  -7.5  -0.3  \n",
       "..    ...  ...   ...     ... ..   ...   ...   ...   ...  \n",
       "728   0.2  0.1   0.3    .191     -2.3  -1.9  -4.3   0.0  \n",
       "729   1.7  0.3   2.0    .087     -1.1  -2.1  -3.2  -0.3  \n",
       "730   1.9  1.3   3.2    .148     -0.2  -0.2  -0.5   0.4  \n",
       "731   1.1  0.6   1.8    .165     -0.3   0.1  -0.2   0.2  \n",
       "732   0.7  0.7   1.4    .132     -0.2  -0.5  -0.7   0.2  \n",
       "\n",
       "[733 rows x 28 columns]"
      ],
      "text/html": "<div>\n<style scoped>\n    .dataframe tbody tr th:only-of-type {\n        vertical-align: middle;\n    }\n\n    .dataframe tbody tr th {\n        vertical-align: top;\n    }\n\n    .dataframe thead th {\n        text-align: right;\n    }\n</style>\n<table border=\"1\" class=\"dataframe\">\n  <thead>\n    <tr style=\"text-align: right;\">\n      <th></th>\n      <th>Player</th>\n      <th>Pos</th>\n      <th>Age</th>\n      <th>Tm</th>\n      <th>G</th>\n      <th>MP</th>\n      <th>PER</th>\n      <th>TS%</th>\n      <th>3PAr</th>\n      <th>FTr</th>\n      <th>...</th>\n      <th></th>\n      <th>OWS</th>\n      <th>DWS</th>\n      <th>WS</th>\n      <th>WS/48</th>\n      <th></th>\n      <th>OBPM</th>\n      <th>DBPM</th>\n      <th>BPM</th>\n      <th>VORP</th>\n    </tr>\n  </thead>\n  <tbody>\n    <tr>\n      <th>0</th>\n      <td>Quincy Acy</td>\n      <td>PF</td>\n      <td>28</td>\n      <td>PHO</td>\n      <td>10</td>\n      <td>123</td>\n      <td>2.9</td>\n      <td>.379</td>\n      <td>.833</td>\n      <td>.556</td>\n      <td>...</td>\n      <td></td>\n      <td>-0.1</td>\n      <td>0.0</td>\n      <td>-0.1</td>\n      <td>-0.022</td>\n      <td></td>\n      <td>-7.6</td>\n      <td>-0.5</td>\n      <td>-8.1</td>\n      <td>-0.2</td>\n    </tr>\n    <tr>\n      <th>1</th>\n      <td>Jaylen Adams</td>\n      <td>PG</td>\n      <td>22</td>\n      <td>ATL</td>\n      <td>34</td>\n      <td>428</td>\n      <td>7.6</td>\n      <td>.474</td>\n      <td>.673</td>\n      <td>.082</td>\n      <td>...</td>\n      <td></td>\n      <td>-0.1</td>\n      <td>0.2</td>\n      <td>0.1</td>\n      <td>.011</td>\n      <td></td>\n      <td>-3.8</td>\n      <td>-0.5</td>\n      <td>-4.3</td>\n      <td>-0.2</td>\n    </tr>\n    <tr>\n      <th>2</th>\n      <td>Steven Adams</td>\n      <td>C</td>\n      <td>25</td>\n      <td>OKC</td>\n      <td>80</td>\n      <td>2669</td>\n      <td>18.5</td>\n      <td>.591</td>\n      <td>.002</td>\n      <td>.361</td>\n      <td>...</td>\n      <td></td>\n      <td>5.1</td>\n      <td>4.0</td>\n      <td>9.1</td>\n      <td>.163</td>\n      <td></td>\n      <td>0.7</td>\n      <td>0.4</td>\n      <td>1.1</td>\n      <td>2.1</td>\n    </tr>\n    <tr>\n      <th>3</th>\n      <td>Bam Adebayo</td>\n      <td>C</td>\n      <td>21</td>\n      <td>MIA</td>\n      <td>82</td>\n      <td>1913</td>\n      <td>17.9</td>\n      <td>.623</td>\n      <td>.031</td>\n      <td>.465</td>\n      <td>...</td>\n      <td></td>\n      <td>3.4</td>\n      <td>3.4</td>\n      <td>6.8</td>\n      <td>.171</td>\n      <td></td>\n      <td>-0.4</td>\n      <td>2.2</td>\n      <td>1.8</td>\n      <td>1.8</td>\n    </tr>\n    <tr>\n      <th>4</th>\n      <td>Deng Adel</td>\n      <td>SF</td>\n      <td>21</td>\n      <td>CLE</td>\n      <td>19</td>\n      <td>194</td>\n      <td>2.7</td>\n      <td>.424</td>\n      <td>.639</td>\n      <td>.111</td>\n      <td>...</td>\n      <td></td>\n      <td>-0.2</td>\n      <td>0.0</td>\n      <td>-0.2</td>\n      <td>-0.054</td>\n      <td></td>\n      <td>-6.0</td>\n      <td>-1.6</td>\n      <td>-7.5</td>\n      <td>-0.3</td>\n    </tr>\n    <tr>\n      <th>...</th>\n      <td>...</td>\n      <td>...</td>\n      <td>...</td>\n      <td>...</td>\n      <td>...</td>\n      <td>...</td>\n      <td>...</td>\n      <td>...</td>\n      <td>...</td>\n      <td>...</td>\n      <td>...</td>\n      <td>...</td>\n      <td>...</td>\n      <td>...</td>\n      <td>...</td>\n      <td>...</td>\n      <td>...</td>\n      <td>...</td>\n      <td>...</td>\n      <td>...</td>\n      <td>...</td>\n    </tr>\n    <tr>\n      <th>728</th>\n      <td>Tyler Zeller</td>\n      <td>C</td>\n      <td>29</td>\n      <td>MEM</td>\n      <td>4</td>\n      <td>82</td>\n      <td>19.4</td>\n      <td>.640</td>\n      <td>.000</td>\n      <td>.643</td>\n      <td>...</td>\n      <td></td>\n      <td>0.2</td>\n      <td>0.1</td>\n      <td>0.3</td>\n      <td>.191</td>\n      <td></td>\n      <td>-2.3</td>\n      <td>-1.9</td>\n      <td>-4.3</td>\n      <td>0.0</td>\n    </tr>\n    <tr>\n      <th>729</th>\n      <td>Ante Žižić</td>\n      <td>C</td>\n      <td>22</td>\n      <td>CLE</td>\n      <td>59</td>\n      <td>1082</td>\n      <td>16.2</td>\n      <td>.590</td>\n      <td>.000</td>\n      <td>.399</td>\n      <td>...</td>\n      <td></td>\n      <td>1.7</td>\n      <td>0.3</td>\n      <td>2.0</td>\n      <td>.087</td>\n      <td></td>\n      <td>-1.1</td>\n      <td>-2.1</td>\n      <td>-3.2</td>\n      <td>-0.3</td>\n    </tr>\n    <tr>\n      <th>730</th>\n      <td>Ivica Zubac</td>\n      <td>C</td>\n      <td>21</td>\n      <td>TOT</td>\n      <td>59</td>\n      <td>1040</td>\n      <td>18.9</td>\n      <td>.604</td>\n      <td>.000</td>\n      <td>.332</td>\n      <td>...</td>\n      <td></td>\n      <td>1.9</td>\n      <td>1.3</td>\n      <td>3.2</td>\n      <td>.148</td>\n      <td></td>\n      <td>-0.2</td>\n      <td>-0.2</td>\n      <td>-0.5</td>\n      <td>0.4</td>\n    </tr>\n    <tr>\n      <th>731</th>\n      <td>Ivica Zubac</td>\n      <td>C</td>\n      <td>21</td>\n      <td>LAL</td>\n      <td>33</td>\n      <td>516</td>\n      <td>19.5</td>\n      <td>.633</td>\n      <td>.000</td>\n      <td>.342</td>\n      <td>...</td>\n      <td></td>\n      <td>1.1</td>\n      <td>0.6</td>\n      <td>1.8</td>\n      <td>.165</td>\n      <td></td>\n      <td>-0.3</td>\n      <td>0.1</td>\n      <td>-0.2</td>\n      <td>0.2</td>\n    </tr>\n    <tr>\n      <th>732</th>\n      <td>Ivica Zubac</td>\n      <td>C</td>\n      <td>21</td>\n      <td>LAC</td>\n      <td>26</td>\n      <td>524</td>\n      <td>18.3</td>\n      <td>.574</td>\n      <td>.000</td>\n      <td>.323</td>\n      <td>...</td>\n      <td></td>\n      <td>0.7</td>\n      <td>0.7</td>\n      <td>1.4</td>\n      <td>.132</td>\n      <td></td>\n      <td>-0.2</td>\n      <td>-0.5</td>\n      <td>-0.7</td>\n      <td>0.2</td>\n    </tr>\n  </tbody>\n</table>\n<p>733 rows × 28 columns</p>\n</div>"
     },
     "metadata": {},
     "execution_count": 9
    }
   ],
   "source": [
    "advanced_2019"
   ]
  },
  {
   "cell_type": "code",
   "execution_count": 11,
   "metadata": {},
   "outputs": [],
   "source": [
    "basic_2019 = basic_2019[basic_2019['Player'].notnull()]\n",
    "\n",
    "basic_2019 = basic_2019[:].fillna(0)\n",
    "\n",
    "basic_2019 = basic_2019.drop_duplicates(['Player'], keep = 'first')"
   ]
  },
  {
   "cell_type": "code",
   "execution_count": 12,
   "metadata": {},
   "outputs": [],
   "source": [
    "advanced_2019 = advanced_2019[advanced_2019['Player'].notnull()]\n",
    "\n",
    "advanced_2019 = advanced_2019[:].fillna(0)\n",
    "\n",
    "advanced_2019 = advanced_2019.drop_duplicates(['Player'], keep = 'first')"
   ]
  },
  {
   "cell_type": "code",
   "execution_count": 13,
   "metadata": {},
   "outputs": [],
   "source": [
    "stats = pd.merge(basic_2019, advanced_2019, on = 'Player')"
   ]
  },
  {
   "cell_type": "code",
   "execution_count": 14,
   "metadata": {},
   "outputs": [
    {
     "output_type": "execute_result",
     "data": {
      "text/plain": [
       "           Player Pos_x Age_x Tm_x G_x  GS  MP_x   FG   FGA   FG%  ...     \\\n",
       "0      Quincy Acy    PF    28  PHO  10   0  12.3  0.4   1.8  .222  ...      \n",
       "1    Jaylen Adams    PG    22  ATL  34   1  12.6  1.1   3.2  .345  ...      \n",
       "2    Steven Adams     C    25  OKC  80  80  33.4  6.0  10.1  .595  ...      \n",
       "3     Bam Adebayo     C    21  MIA  82  28  23.3  3.4   5.9  .576  ...      \n",
       "4       Deng Adel    SF    21  CLE  19   3  10.2  0.6   1.9  .306  ...      \n",
       "..            ...   ...   ...  ...  ..  ..   ...  ...   ...   ...  ... ..   \n",
       "524    Trae Young    PG    20  ATL  81  81  30.9  6.5  15.5  .418  ...      \n",
       "525   Cody Zeller     C    26  CHO  49  47  25.4  3.9   7.0  .551  ...      \n",
       "526  Tyler Zeller     C    29  TOT   6   1  15.5  2.7   5.0  .533  ...      \n",
       "527    Ante Žižić     C    22  CLE  59  25  18.3  3.1   5.6  .553  ...      \n",
       "528   Ivica Zubac     C    21  TOT  59  37  17.6  3.6   6.4  .559  ...      \n",
       "\n",
       "      OWS  DWS    WS   WS/48     OBPM  DBPM   BPM  VORP  \n",
       "0    -0.1  0.0  -0.1  -0.022     -7.6  -0.5  -8.1  -0.2  \n",
       "1    -0.1  0.2   0.1    .011     -3.8  -0.5  -4.3  -0.2  \n",
       "2     5.1  4.0   9.1    .163      0.7   0.4   1.1   2.1  \n",
       "3     3.4  3.4   6.8    .171     -0.4   2.2   1.8   1.8  \n",
       "4    -0.2  0.0  -0.2  -0.054     -6.0  -1.6  -7.5  -0.3  \n",
       "..    ...  ...   ...     ... ..   ...   ...   ...   ...  \n",
       "524   2.5  0.7   3.3    .062      2.3  -2.8  -0.6   0.9  \n",
       "525   2.6  1.2   3.9    .150     -0.6   0.7   0.1   0.7  \n",
       "526   0.2  0.1   0.3    .167     -3.1  -1.9  -5.0  -0.1  \n",
       "527   1.7  0.3   2.0    .087     -1.1  -2.1  -3.2  -0.3  \n",
       "528   1.9  1.3   3.2    .148     -0.2  -0.2  -0.5   0.4  \n",
       "\n",
       "[529 rows x 56 columns]"
      ],
      "text/html": "<div>\n<style scoped>\n    .dataframe tbody tr th:only-of-type {\n        vertical-align: middle;\n    }\n\n    .dataframe tbody tr th {\n        vertical-align: top;\n    }\n\n    .dataframe thead th {\n        text-align: right;\n    }\n</style>\n<table border=\"1\" class=\"dataframe\">\n  <thead>\n    <tr style=\"text-align: right;\">\n      <th></th>\n      <th>Player</th>\n      <th>Pos_x</th>\n      <th>Age_x</th>\n      <th>Tm_x</th>\n      <th>G_x</th>\n      <th>GS</th>\n      <th>MP_x</th>\n      <th>FG</th>\n      <th>FGA</th>\n      <th>FG%</th>\n      <th>...</th>\n      <th></th>\n      <th>OWS</th>\n      <th>DWS</th>\n      <th>WS</th>\n      <th>WS/48</th>\n      <th></th>\n      <th>OBPM</th>\n      <th>DBPM</th>\n      <th>BPM</th>\n      <th>VORP</th>\n    </tr>\n  </thead>\n  <tbody>\n    <tr>\n      <th>0</th>\n      <td>Quincy Acy</td>\n      <td>PF</td>\n      <td>28</td>\n      <td>PHO</td>\n      <td>10</td>\n      <td>0</td>\n      <td>12.3</td>\n      <td>0.4</td>\n      <td>1.8</td>\n      <td>.222</td>\n      <td>...</td>\n      <td></td>\n      <td>-0.1</td>\n      <td>0.0</td>\n      <td>-0.1</td>\n      <td>-0.022</td>\n      <td></td>\n      <td>-7.6</td>\n      <td>-0.5</td>\n      <td>-8.1</td>\n      <td>-0.2</td>\n    </tr>\n    <tr>\n      <th>1</th>\n      <td>Jaylen Adams</td>\n      <td>PG</td>\n      <td>22</td>\n      <td>ATL</td>\n      <td>34</td>\n      <td>1</td>\n      <td>12.6</td>\n      <td>1.1</td>\n      <td>3.2</td>\n      <td>.345</td>\n      <td>...</td>\n      <td></td>\n      <td>-0.1</td>\n      <td>0.2</td>\n      <td>0.1</td>\n      <td>.011</td>\n      <td></td>\n      <td>-3.8</td>\n      <td>-0.5</td>\n      <td>-4.3</td>\n      <td>-0.2</td>\n    </tr>\n    <tr>\n      <th>2</th>\n      <td>Steven Adams</td>\n      <td>C</td>\n      <td>25</td>\n      <td>OKC</td>\n      <td>80</td>\n      <td>80</td>\n      <td>33.4</td>\n      <td>6.0</td>\n      <td>10.1</td>\n      <td>.595</td>\n      <td>...</td>\n      <td></td>\n      <td>5.1</td>\n      <td>4.0</td>\n      <td>9.1</td>\n      <td>.163</td>\n      <td></td>\n      <td>0.7</td>\n      <td>0.4</td>\n      <td>1.1</td>\n      <td>2.1</td>\n    </tr>\n    <tr>\n      <th>3</th>\n      <td>Bam Adebayo</td>\n      <td>C</td>\n      <td>21</td>\n      <td>MIA</td>\n      <td>82</td>\n      <td>28</td>\n      <td>23.3</td>\n      <td>3.4</td>\n      <td>5.9</td>\n      <td>.576</td>\n      <td>...</td>\n      <td></td>\n      <td>3.4</td>\n      <td>3.4</td>\n      <td>6.8</td>\n      <td>.171</td>\n      <td></td>\n      <td>-0.4</td>\n      <td>2.2</td>\n      <td>1.8</td>\n      <td>1.8</td>\n    </tr>\n    <tr>\n      <th>4</th>\n      <td>Deng Adel</td>\n      <td>SF</td>\n      <td>21</td>\n      <td>CLE</td>\n      <td>19</td>\n      <td>3</td>\n      <td>10.2</td>\n      <td>0.6</td>\n      <td>1.9</td>\n      <td>.306</td>\n      <td>...</td>\n      <td></td>\n      <td>-0.2</td>\n      <td>0.0</td>\n      <td>-0.2</td>\n      <td>-0.054</td>\n      <td></td>\n      <td>-6.0</td>\n      <td>-1.6</td>\n      <td>-7.5</td>\n      <td>-0.3</td>\n    </tr>\n    <tr>\n      <th>...</th>\n      <td>...</td>\n      <td>...</td>\n      <td>...</td>\n      <td>...</td>\n      <td>...</td>\n      <td>...</td>\n      <td>...</td>\n      <td>...</td>\n      <td>...</td>\n      <td>...</td>\n      <td>...</td>\n      <td>...</td>\n      <td>...</td>\n      <td>...</td>\n      <td>...</td>\n      <td>...</td>\n      <td>...</td>\n      <td>...</td>\n      <td>...</td>\n      <td>...</td>\n      <td>...</td>\n    </tr>\n    <tr>\n      <th>524</th>\n      <td>Trae Young</td>\n      <td>PG</td>\n      <td>20</td>\n      <td>ATL</td>\n      <td>81</td>\n      <td>81</td>\n      <td>30.9</td>\n      <td>6.5</td>\n      <td>15.5</td>\n      <td>.418</td>\n      <td>...</td>\n      <td></td>\n      <td>2.5</td>\n      <td>0.7</td>\n      <td>3.3</td>\n      <td>.062</td>\n      <td></td>\n      <td>2.3</td>\n      <td>-2.8</td>\n      <td>-0.6</td>\n      <td>0.9</td>\n    </tr>\n    <tr>\n      <th>525</th>\n      <td>Cody Zeller</td>\n      <td>C</td>\n      <td>26</td>\n      <td>CHO</td>\n      <td>49</td>\n      <td>47</td>\n      <td>25.4</td>\n      <td>3.9</td>\n      <td>7.0</td>\n      <td>.551</td>\n      <td>...</td>\n      <td></td>\n      <td>2.6</td>\n      <td>1.2</td>\n      <td>3.9</td>\n      <td>.150</td>\n      <td></td>\n      <td>-0.6</td>\n      <td>0.7</td>\n      <td>0.1</td>\n      <td>0.7</td>\n    </tr>\n    <tr>\n      <th>526</th>\n      <td>Tyler Zeller</td>\n      <td>C</td>\n      <td>29</td>\n      <td>TOT</td>\n      <td>6</td>\n      <td>1</td>\n      <td>15.5</td>\n      <td>2.7</td>\n      <td>5.0</td>\n      <td>.533</td>\n      <td>...</td>\n      <td></td>\n      <td>0.2</td>\n      <td>0.1</td>\n      <td>0.3</td>\n      <td>.167</td>\n      <td></td>\n      <td>-3.1</td>\n      <td>-1.9</td>\n      <td>-5.0</td>\n      <td>-0.1</td>\n    </tr>\n    <tr>\n      <th>527</th>\n      <td>Ante Žižić</td>\n      <td>C</td>\n      <td>22</td>\n      <td>CLE</td>\n      <td>59</td>\n      <td>25</td>\n      <td>18.3</td>\n      <td>3.1</td>\n      <td>5.6</td>\n      <td>.553</td>\n      <td>...</td>\n      <td></td>\n      <td>1.7</td>\n      <td>0.3</td>\n      <td>2.0</td>\n      <td>.087</td>\n      <td></td>\n      <td>-1.1</td>\n      <td>-2.1</td>\n      <td>-3.2</td>\n      <td>-0.3</td>\n    </tr>\n    <tr>\n      <th>528</th>\n      <td>Ivica Zubac</td>\n      <td>C</td>\n      <td>21</td>\n      <td>TOT</td>\n      <td>59</td>\n      <td>37</td>\n      <td>17.6</td>\n      <td>3.6</td>\n      <td>6.4</td>\n      <td>.559</td>\n      <td>...</td>\n      <td></td>\n      <td>1.9</td>\n      <td>1.3</td>\n      <td>3.2</td>\n      <td>.148</td>\n      <td></td>\n      <td>-0.2</td>\n      <td>-0.2</td>\n      <td>-0.5</td>\n      <td>0.4</td>\n    </tr>\n  </tbody>\n</table>\n<p>529 rows × 56 columns</p>\n</div>"
     },
     "metadata": {},
     "execution_count": 14
    }
   ],
   "source": [
    "stats"
   ]
  },
  {
   "cell_type": "code",
   "execution_count": null,
   "metadata": {},
   "outputs": [],
   "source": []
  }
 ],
 "metadata": {
  "kernelspec": {
   "display_name": "Python 3",
   "language": "python",
   "name": "python3"
  },
  "language_info": {
   "codemirror_mode": {
    "name": "ipython",
    "version": 3
   },
   "file_extension": ".py",
   "mimetype": "text/x-python",
   "name": "python",
   "nbconvert_exporter": "python",
   "pygments_lexer": "ipython3",
   "version": "3.7.9-final"
  }
 },
 "nbformat": 4,
 "nbformat_minor": 2
}