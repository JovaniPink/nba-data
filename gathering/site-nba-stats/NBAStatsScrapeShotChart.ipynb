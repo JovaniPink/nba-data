{
 "cells": [
  {
   "cell_type": "code",
   "execution_count": 1,
   "metadata": {},
   "outputs": [],
   "source": [
    "# NBA Shot Charts"
   ]
  },
  {
   "cell_type": "code",
   "execution_count": 2,
   "metadata": {},
   "outputs": [],
   "source": [
    "%config IPCompleter.greedy=True\n",
    "\n",
    "# Import the dependencies.\n",
    "import json\n",
    "import re\n",
    "import time\n",
    "\n",
    "import numpy as np\n",
    "import pandas as pd\n",
    "import requests"
   ]
  },
  {
   "cell_type": "code",
   "execution_count": null,
   "metadata": {},
   "outputs": [],
   "source": [
    "# The request files to verify its structure.\n",
    "base_url = \"https://stats.nba.com/stats/\"\n",
    "\n",
    "headers = {\n",
    "    \"Host\": \"stats.nba.com\",\n",
    "    \"User-Agent\": \"Mozilla/5.0 (Windows NT 10.0; Win64; x64; rv:72.0) Gecko/20100101 Firefox/72.0\",\n",
    "    \"Accept\": \"application/json, text/plain, */*\",\n",
    "    \"Accept-Language\": \"en-US,en;q=0.5\",\n",
    "    \"Accept-Encoding\": \"gzip, deflate, br\",\n",
    "    \"x-nba-stats-origin\": \"stats\",\n",
    "    \"x-nba-stats-token\": \"true\",\n",
    "    \"Connection\": \"keep-alive\",\n",
    "    \"Referer\": \"https://stats.nba.com/\",\n",
    "    \"Pragma\": \"no-cache\",\n",
    "    \"Cache-Control\": \"no-cache\",\n",
    "}\n",
    "\n",
    "measure_type = {\"base\": \"Base\", \"advanced\": \"Advanced\"}\n",
    "\n",
    "stat_modes_depth = {\n",
    "    \"Per100Possessions\": \"Per100Possessions\",\n",
    "    \"Totals\": \"Totals\",\n",
    "    \"Per36\": \"Per36\",\n",
    "    \"PerGame\": \"PerGame\",\n",
    "}\n",
    "\n",
    "season_list = [\n",
    "    \"1996-97\",\n",
    "    \"1997-98\",\n",
    "    \"1998-99\",\n",
    "    \"1999-00\",\n",
    "    \"2000-01\",\n",
    "    \"2001-02\",\n",
    "    \"2002-03\",\n",
    "    \"2003-04\",\n",
    "    \"2004-05\",\n",
    "    \"2005-06\",\n",
    "    \"2006-07\",\n",
    "    \"2007-08\",\n",
    "    \"2008-09\",\n",
    "    \"2009-10\",\n",
    "    \"2010-11\",\n",
    "    \"2011-12\",\n",
    "    \"2012-13\",\n",
    "    \"2013-14\",\n",
    "    \"2014-15\",\n",
    "    \"2015-16\",\n",
    "    \"2016-17\",\n",
    "    \"2017-18\",\n",
    "    \"2018-19\",\n",
    "    \"2019-20\",\n",
    "]\n",
    "\n",
    "season_id = \"2019-20\"\n",
    "team_id = 1610612737\n",
    "player_id = 1629630\n",
    "per_mode = \"PerGame\"\n",
    "\n",
    "shot_chart_nbastats_api = f\"{base_url}shotchartdetail?AheadBehind=&CFID=33&CFPARAMS=2019-20&ClutchTime=&Conference=&ContextFilter=&ContextMeasure=FGA&DateFrom=&DateTo=&Division=&EndPeriod=10&EndRange=28800&GROUP_ID=&GameEventID=&GameID=&GameSegment=&GroupID=&GroupMode=&GroupQuantity=5&LastNGames=0&LeagueID=00&Location=&Month=0&OnOff=&OpponentTeamID=0&Outcome=&PORound=0&Period=0&PlayerID={player_id}&PlayerID1=&PlayerID2=&PlayerID3=&PlayerID4=&PlayerID5=&PlayerPosition=&PointDiff=&Position=&RangeType=0&RookieYear=&Season={season_id}&SeasonSegment=&SeasonType=Regular+Season&ShotClockRange=&StartPeriod=1&StartRange=0&StarterBench=&TeamID=0&VsConference=&VsDivision=&VsPlayerID1=&VsPlayerID2=&VsPlayerID3=&VsPlayerID4=&VsPlayerID5=&VsTeamID=\"\n",
    "\n",
    "# json response\n",
    "response = requests.get(url=shot_chart_nbastats_api, headers=headers).json()\n",
    "# pretty printing data\n",
    "pretty_data = json.dumps(response, indent=4)\n",
    "print(pretty_data)\n",
    "# pulling the headers we want to experiment with\n",
    "stat_header = response[\"resultSets\"][0][\"headers\"]\n",
    "print(stat_header)\n",
    "# pulling just the data we want\n",
    "body_data = response[\"resultSets\"][0][\"rowSet\"][0]\n",
    "print(body_data)"
   ]
  },
  {
   "cell_type": "code",
   "execution_count": 4,
   "metadata": {},
   "outputs": [],
   "source": [
    "# transform contents into dataframe\n",
    "results = response[\"resultSets\"][0]\n",
    "headers = stat_header\n",
    "rows = results[\"rowSet\"]\n",
    "nba_shot_chart_df = pd.DataFrame(rows)\n",
    "nba_shot_chart_df.columns = headers\n",
    "\n",
    "# write to csv file\n",
    "nba_shot_chart_df.to_csv(f\"../../data/interim/nba-stats-{player_id}-shot-chart-2019-20.csv\", index=False)"
   ]
  },
  {
   "cell_type": "code",
   "execution_count": 5,
   "metadata": {},
   "outputs": [],
   "source": [
    "nba_shot_chart_df[\"MAKE\"] = nba_shot_chart_df.EVENT_TYPE.apply(\n",
    "    lambda x: 0 if \"Missed\" in x else 1\n",
    ")\n",
    "nba_shot_chart_df[\"ZONE\"] = nba_shot_chart_df.SHOT_TYPE.apply(\n",
    "    lambda x: 2 if \"2PT\" in x else 3\n",
    ")"
   ]
  },
  {
   "cell_type": "code",
   "execution_count": 6,
   "metadata": {},
   "outputs": [],
   "source": [
    "nba_shot_chart_processed_df = nba_shot_chart_df[\n",
    "    [\"PLAYER_NAME\", \"LOC_X\", \"LOC_Y\", \"MAKE\", \"ZONE\"]\n",
    "]\n",
    "nba_shot_chart_processed_df.columns = [\"name\", \"x\", \"y\", \"make\", \"zone\"]"
   ]
  },
  {
   "cell_type": "code",
   "execution_count": 7,
   "metadata": {},
   "outputs": [
    {
     "data": {
      "text/html": [
       "<div>\n",
       "<style scoped>\n",
       "    .dataframe tbody tr th:only-of-type {\n",
       "        vertical-align: middle;\n",
       "    }\n",
       "\n",
       "    .dataframe tbody tr th {\n",
       "        vertical-align: top;\n",
       "    }\n",
       "\n",
       "    .dataframe thead th {\n",
       "        text-align: right;\n",
       "    }\n",
       "</style>\n",
       "<table border=\"1\" class=\"dataframe\">\n",
       "  <thead>\n",
       "    <tr style=\"text-align: right;\">\n",
       "      <th></th>\n",
       "      <th>name</th>\n",
       "      <th>x</th>\n",
       "      <th>y</th>\n",
       "      <th>make</th>\n",
       "      <th>zone</th>\n",
       "    </tr>\n",
       "  </thead>\n",
       "  <tbody>\n",
       "    <tr>\n",
       "      <th>0</th>\n",
       "      <td>Ja Morant</td>\n",
       "      <td>-27</td>\n",
       "      <td>5</td>\n",
       "      <td>1</td>\n",
       "      <td>2</td>\n",
       "    </tr>\n",
       "    <tr>\n",
       "      <th>1</th>\n",
       "      <td>Ja Morant</td>\n",
       "      <td>18</td>\n",
       "      <td>11</td>\n",
       "      <td>1</td>\n",
       "      <td>2</td>\n",
       "    </tr>\n",
       "    <tr>\n",
       "      <th>2</th>\n",
       "      <td>Ja Morant</td>\n",
       "      <td>3</td>\n",
       "      <td>28</td>\n",
       "      <td>1</td>\n",
       "      <td>2</td>\n",
       "    </tr>\n",
       "    <tr>\n",
       "      <th>3</th>\n",
       "      <td>Ja Morant</td>\n",
       "      <td>-14</td>\n",
       "      <td>22</td>\n",
       "      <td>1</td>\n",
       "      <td>2</td>\n",
       "    </tr>\n",
       "    <tr>\n",
       "      <th>4</th>\n",
       "      <td>Ja Morant</td>\n",
       "      <td>-2</td>\n",
       "      <td>21</td>\n",
       "      <td>0</td>\n",
       "      <td>2</td>\n",
       "    </tr>\n",
       "  </tbody>\n",
       "</table>\n",
       "</div>"
      ],
      "text/plain": [
       "        name   x   y  make  zone\n",
       "0  Ja Morant -27   5     1     2\n",
       "1  Ja Morant  18  11     1     2\n",
       "2  Ja Morant   3  28     1     2\n",
       "3  Ja Morant -14  22     1     2\n",
       "4  Ja Morant  -2  21     0     2"
      ]
     },
     "execution_count": 7,
     "metadata": {},
     "output_type": "execute_result"
    }
   ],
   "source": [
    "nba_shot_chart_processed_df.head()"
   ]
  },
  {
   "cell_type": "code",
   "execution_count": 8,
   "metadata": {},
   "outputs": [],
   "source": [
    "# write to csv file\n",
    "nba_shot_chart_processed_df.to_csv(\"../../data/processed/nba-stats-{player_id}-shot-chart-2019-20.csv\", index=False)"
   ]
  },
  {
   "cell_type": "code",
   "execution_count": 9,
   "metadata": {},
   "outputs": [],
   "source": [
    "# write to json file\n",
    "nba_shot_chart_processed_df.to_json(\"../../data/processed/nba-stats-{player_id}-shot-chart-2019-20.json\", orient=\"values\")"
   ]
  },
  {
   "cell_type": "code",
   "execution_count": null,
   "metadata": {},
   "outputs": [],
   "source": []
  }
 ],
 "metadata": {
  "kernelspec": {
   "display_name": "Python 3",
   "language": "python",
   "name": "python3"
  },
  "language_info": {
   "codemirror_mode": {
    "name": "ipython",
    "version": 3
   },
   "file_extension": ".py",
   "mimetype": "text/x-python",
   "name": "python",
   "nbconvert_exporter": "python",
   "pygments_lexer": "ipython3",
   "version": "3.7.9"
  }
 },
 "nbformat": 4,
 "nbformat_minor": 4
}
