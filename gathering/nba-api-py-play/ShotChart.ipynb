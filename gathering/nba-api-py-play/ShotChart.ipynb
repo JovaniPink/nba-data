{
 "cells": [
  {
   "cell_type": "code",
   "execution_count": 1,
   "id": "emerging-peace",
   "metadata": {},
   "outputs": [],
   "source": [
    "import json\n",
    "from nba_api.stats.endpoints import shotchartdetail\n",
    "\n",
    "response = shotchartdetail.ShotChartDetail(\n",
    "\tteam_id=0,\n",
    "\tplayer_id=0,\n",
    "\tseason_nullable='2018-19',\n",
    "\tseason_type_all_star='Regular Season'\n",
    ")\n",
    "\n",
    "content = json.loads(response.get_json())"
   ]
  },
  {
   "cell_type": "code",
   "execution_count": 3,
   "id": "promotional-manchester",
   "metadata": {},
   "outputs": [],
   "source": [
    "import pandas as pd\n",
    "\n",
    "# transform contents into dataframe\n",
    "results = content['resultSets'][0]\n",
    "headers = results['headers']\n",
    "rows = results['rowSet']\n",
    "df = pd.DataFrame(rows)\n",
    "df.columns = headers\n",
    "\n",
    "# write to csv file\n",
    "df.to_csv(\"../../data/interim/nba-stats-all-shot-chart-2018-19.csv\", index=False)"
   ]
  },
  {
   "cell_type": "code",
   "execution_count": null,
   "id": "manual-message",
   "metadata": {},
   "outputs": [],
   "source": []
  }
 ],
 "metadata": {
  "kernelspec": {
   "display_name": "Python 3",
   "language": "python",
   "name": "python3"
  },
  "language_info": {
   "codemirror_mode": {
    "name": "ipython",
    "version": 3
   },
   "file_extension": ".py",
   "mimetype": "text/x-python",
   "name": "python",
   "nbconvert_exporter": "python",
   "pygments_lexer": "ipython3",
   "version": "3.7.9"
  }
 },
 "nbformat": 4,
 "nbformat_minor": 5
}
