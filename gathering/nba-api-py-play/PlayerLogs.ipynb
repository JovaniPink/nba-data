{
 "metadata": {
  "language_info": {
   "codemirror_mode": {
    "name": "ipython",
    "version": 3
   },
   "file_extension": ".py",
   "mimetype": "text/x-python",
   "name": "python",
   "nbconvert_exporter": "python",
   "pygments_lexer": "ipython3",
   "version": "3.7.10"
  },
  "orig_nbformat": 2,
  "kernelspec": {
   "name": "python3710jvsc74a57bd0b3ba2566441a7c06988d0923437866b63cedc61552a5af99d1f4fb67d367b25f",
   "display_name": "Python 3.7.10 64-bit ('base': conda)"
  }
 },
 "nbformat": 4,
 "nbformat_minor": 2,
 "cells": [
  {
   "source": [
    "# Player Logs"
   ],
   "cell_type": "markdown",
   "metadata": {}
  },
  {
   "cell_type": "code",
   "execution_count": 1,
   "metadata": {},
   "outputs": [],
   "source": [
    "%config IPCompleter.greedy=True\n",
    "%matplotlib inline\n",
    "\n",
    "# Import the dependencies.\n",
    "import numpy as np\n",
    "import pandas as pd\n",
    "import matplotlib.pyplot as plt\n",
    "import seaborn as sns\n",
    "\n",
    "# Path\n",
    "from pathlib import Path\n",
    "\n",
    "# NBA\n",
    "import nba_api\n",
    "from nba_api.stats.endpoints import boxscoreadvancedv2\n",
    "import requests"
   ]
  },
  {
   "cell_type": "code",
   "execution_count": 2,
   "metadata": {},
   "outputs": [],
   "source": [
    "from nba_api.stats.static import players\n",
    "player_dict = players.get_players()\n",
    "\n",
    "# Use ternary operator or write function \n",
    "# Names are case sensitive\n",
    "bron = [player for player in player_dict if player['full_name'] == 'LeBron James'][0]\n",
    "bron_id = bron['id']\n",
    "\n",
    "# find team Ids\n",
    "from nba_api.stats.static import teams \n",
    "teams = teams.get_teams()\n",
    "GSW = [x for x in teams if x['full_name'] == 'Golden State Warriors'][0]\n",
    "GSW_id = GSW['id']"
   ]
  },
  {
   "cell_type": "code",
   "execution_count": 3,
   "metadata": {},
   "outputs": [
    {
     "output_type": "execute_result",
     "data": {
      "text/plain": [
       "[     SEASON_ID  Player_ID     Game_ID     GAME_DATE      MATCHUP WL  MIN  FGM  \\\n",
       " 0        22020       2544  0022000974  MAY 02, 2021  LAL vs. TOR  L   28    6   \n",
       " 1        22020       2544  0022000956  APR 30, 2021  LAL vs. SAC  L   32    6   \n",
       " 2        22020       2544  0022000640  MAR 20, 2021  LAL vs. ATL  L   11    3   \n",
       " 3        22020       2544  0022000630  MAR 18, 2021  LAL vs. CHA  W   37   14   \n",
       " 4        22020       2544  0022000615  MAR 16, 2021  LAL vs. MIN  W   31    8   \n",
       " ...        ...        ...         ...           ...          ... ..  ...  ...   \n",
       " 1303     22003       2544  0020300068  NOV 07, 2003    CLE @ IND  L   44    8   \n",
       " 1304     22003       2544  0020300057  NOV 05, 2003  CLE vs. DEN  L   41    3   \n",
       " 1305     22003       2544  0020300038  NOV 01, 2003    CLE @ POR  L   39    3   \n",
       " 1306     22003       2544  0020300018  OCT 30, 2003    CLE @ PHX  L   41    8   \n",
       " 1307     22003       2544  0020300014  OCT 29, 2003    CLE @ SAC  L   42   12   \n",
       " \n",
       "       FGA  FG_PCT  ...  DREB  REB  AST  STL  BLK  TOV  PF  PTS  PLUS_MINUS  \\\n",
       " 0      11   0.545  ...     7    7    6    0    0    5   2   19          -4   \n",
       " 1      12   0.500  ...     7    8    7    2    1    5   1   16           5   \n",
       " 2       6   0.500  ...     1    1    4    0    0    1   0   10          -5   \n",
       " 3      23   0.609  ...     7    8    6    1    1    3   2   37           7   \n",
       " 4      14   0.571  ...    11   12   12    0    1    4   0   25           0   \n",
       " ...   ...     ...  ...   ...  ...  ...  ...  ...  ...  ..  ...         ...   \n",
       " 1303   18   0.444  ...     5    5    3    0    0    7   2   23          -7   \n",
       " 1304   11   0.273  ...     9   11    7    2    3    2   1    7          -3   \n",
       " 1305   12   0.250  ...     4    4    6    2    0    2   3    8         -21   \n",
       " 1306   17   0.471  ...    10   12    8    1    0    7   1   21          -3   \n",
       " 1307   20   0.600  ...     4    6    9    4    0    2   3   25          -9   \n",
       " \n",
       "       VIDEO_AVAILABLE  \n",
       " 0                   1  \n",
       " 1                   1  \n",
       " 2                   1  \n",
       " 3                   1  \n",
       " 4                   1  \n",
       " ...               ...  \n",
       " 1303                0  \n",
       " 1304                0  \n",
       " 1305                0  \n",
       " 1306                0  \n",
       " 1307                0  \n",
       " \n",
       " [1308 rows x 27 columns]]"
      ]
     },
     "metadata": {},
     "execution_count": 3
    }
   ],
   "source": [
    "# First we import the endpoint\n",
    "# We will be using pandas dataframes to manipulate the data\n",
    "from nba_api.stats.endpoints import playergamelog\n",
    "import pandas as pd \n",
    "\n",
    "#Call the API endpoint passing in lebron's ID & which season \n",
    "gamelog_bron = playergamelog.PlayerGameLog(player_id='2544', season = '2018')\n",
    "\n",
    "#Converts gamelog object into a pandas dataframe\n",
    "#can also convert to JSON or dictionary  \n",
    "df_bron_games_2018 = gamelog_bron.get_data_frames()\n",
    "\n",
    "# If you want all seasons, you must import the SeasonAll parameter \n",
    "from nba_api.stats.library.parameters import SeasonAll\n",
    "\n",
    "gamelog_bron_all = playergamelog.PlayerGameLog(player_id='2544', season = SeasonAll.all)\n",
    "\n",
    "df_bron_games_all = gamelog_bron_all.get_data_frames()\n",
    "df_bron_games_all"
   ]
  },
  {
   "cell_type": "code",
   "execution_count": 4,
   "metadata": {},
   "outputs": [
    {
     "output_type": "execute_result",
     "data": {
      "text/plain": [
       "     SEASON_ID     TEAM_ID TEAM_ABBREVIATION              TEAM_NAME  \\\n",
       "0        22020  1610612744               GSW  Golden State Warriors   \n",
       "1        22020  1610612744               GSW  Golden State Warriors   \n",
       "2        22020  1610612744               GSW  Golden State Warriors   \n",
       "3        22020  1610612744               GSW  Golden State Warriors   \n",
       "4        22020  1610612744               GSW  Golden State Warriors   \n",
       "...        ...         ...               ...                    ...   \n",
       "3376     21983  1610612744               GOS  Golden State Warriors   \n",
       "3377     21983  1610612744               GOS  Golden State Warriors   \n",
       "3378     21983  1610612744               GOS  Golden State Warriors   \n",
       "3379     21983  1610612744               GOS  Golden State Warriors   \n",
       "3380     21983  1610612744               GOS  Golden State Warriors   \n",
       "\n",
       "         GAME_ID   GAME_DATE      MATCHUP WL  MIN  PTS  ...  FT_PCT  OREB  \\\n",
       "0     0022001039  2021-05-11  GSW vs. PHX  W  241  122  ...   0.850  12.0   \n",
       "1     0022001030  2021-05-10  GSW vs. UTA  W  241  119  ...   0.920   9.0   \n",
       "2     0022001017  2021-05-08  GSW vs. OKC  W  240  136  ...   0.833   2.0   \n",
       "3     0022001001  2021-05-06  GSW vs. OKC  W  238  118  ...   0.833   7.0   \n",
       "4     0022000987  2021-05-04    GSW @ NOP  L  239  103  ...   0.714   8.0   \n",
       "...          ...         ...          ... ..  ...  ...  ...     ...   ...   \n",
       "3376  0028300048  1983-11-05  GOS vs. NYK  W  240  102  ...   0.711  25.0   \n",
       "3377  0028300040  1983-11-03    GOS @ UTH  L  240  112  ...   0.880  27.0   \n",
       "3378  0028300029  1983-11-01    GOS @ KCK  L  240  114  ...   0.750  12.0   \n",
       "3379  0028300013  1983-10-29  GOS vs. POR  W  240   97  ...   0.725  12.0   \n",
       "3380  0028300004  1983-10-28    GOS @ SEA  W  240  110  ...   0.703  21.0   \n",
       "\n",
       "      DREB   REB  AST  STL  BLK  TOV  PF  PLUS_MINUS  \n",
       "0     28.0  40.0   33    8    1    8  20         6.0  \n",
       "1     32.0  41.0   26    8    2   10  20         3.0  \n",
       "2     44.0  46.0   31    5    4   18  19        39.0  \n",
       "3     42.0  49.0   36    4    1   13  19        21.0  \n",
       "4     40.0  48.0   22    7    9   18  17        -5.0  \n",
       "...    ...   ...  ...  ...  ...  ...  ..         ...  \n",
       "3376  18.0  43.0   20   16    4   17  27         NaN  \n",
       "3377  26.0  53.0   22   11    4   19  31         NaN  \n",
       "3378  18.0  30.0   29   15    3   16  28         NaN  \n",
       "3379  31.0  43.0   21    9    1   16  37         NaN  \n",
       "3380  26.0  47.0   26   11    2   19  34         NaN  \n",
       "\n",
       "[3381 rows x 28 columns]"
      ],
      "text/html": "<div>\n<style scoped>\n    .dataframe tbody tr th:only-of-type {\n        vertical-align: middle;\n    }\n\n    .dataframe tbody tr th {\n        vertical-align: top;\n    }\n\n    .dataframe thead th {\n        text-align: right;\n    }\n</style>\n<table border=\"1\" class=\"dataframe\">\n  <thead>\n    <tr style=\"text-align: right;\">\n      <th></th>\n      <th>SEASON_ID</th>\n      <th>TEAM_ID</th>\n      <th>TEAM_ABBREVIATION</th>\n      <th>TEAM_NAME</th>\n      <th>GAME_ID</th>\n      <th>GAME_DATE</th>\n      <th>MATCHUP</th>\n      <th>WL</th>\n      <th>MIN</th>\n      <th>PTS</th>\n      <th>...</th>\n      <th>FT_PCT</th>\n      <th>OREB</th>\n      <th>DREB</th>\n      <th>REB</th>\n      <th>AST</th>\n      <th>STL</th>\n      <th>BLK</th>\n      <th>TOV</th>\n      <th>PF</th>\n      <th>PLUS_MINUS</th>\n    </tr>\n  </thead>\n  <tbody>\n    <tr>\n      <th>0</th>\n      <td>22020</td>\n      <td>1610612744</td>\n      <td>GSW</td>\n      <td>Golden State Warriors</td>\n      <td>0022001039</td>\n      <td>2021-05-11</td>\n      <td>GSW vs. PHX</td>\n      <td>W</td>\n      <td>241</td>\n      <td>122</td>\n      <td>...</td>\n      <td>0.850</td>\n      <td>12.0</td>\n      <td>28.0</td>\n      <td>40.0</td>\n      <td>33</td>\n      <td>8</td>\n      <td>1</td>\n      <td>8</td>\n      <td>20</td>\n      <td>6.0</td>\n    </tr>\n    <tr>\n      <th>1</th>\n      <td>22020</td>\n      <td>1610612744</td>\n      <td>GSW</td>\n      <td>Golden State Warriors</td>\n      <td>0022001030</td>\n      <td>2021-05-10</td>\n      <td>GSW vs. UTA</td>\n      <td>W</td>\n      <td>241</td>\n      <td>119</td>\n      <td>...</td>\n      <td>0.920</td>\n      <td>9.0</td>\n      <td>32.0</td>\n      <td>41.0</td>\n      <td>26</td>\n      <td>8</td>\n      <td>2</td>\n      <td>10</td>\n      <td>20</td>\n      <td>3.0</td>\n    </tr>\n    <tr>\n      <th>2</th>\n      <td>22020</td>\n      <td>1610612744</td>\n      <td>GSW</td>\n      <td>Golden State Warriors</td>\n      <td>0022001017</td>\n      <td>2021-05-08</td>\n      <td>GSW vs. OKC</td>\n      <td>W</td>\n      <td>240</td>\n      <td>136</td>\n      <td>...</td>\n      <td>0.833</td>\n      <td>2.0</td>\n      <td>44.0</td>\n      <td>46.0</td>\n      <td>31</td>\n      <td>5</td>\n      <td>4</td>\n      <td>18</td>\n      <td>19</td>\n      <td>39.0</td>\n    </tr>\n    <tr>\n      <th>3</th>\n      <td>22020</td>\n      <td>1610612744</td>\n      <td>GSW</td>\n      <td>Golden State Warriors</td>\n      <td>0022001001</td>\n      <td>2021-05-06</td>\n      <td>GSW vs. OKC</td>\n      <td>W</td>\n      <td>238</td>\n      <td>118</td>\n      <td>...</td>\n      <td>0.833</td>\n      <td>7.0</td>\n      <td>42.0</td>\n      <td>49.0</td>\n      <td>36</td>\n      <td>4</td>\n      <td>1</td>\n      <td>13</td>\n      <td>19</td>\n      <td>21.0</td>\n    </tr>\n    <tr>\n      <th>4</th>\n      <td>22020</td>\n      <td>1610612744</td>\n      <td>GSW</td>\n      <td>Golden State Warriors</td>\n      <td>0022000987</td>\n      <td>2021-05-04</td>\n      <td>GSW @ NOP</td>\n      <td>L</td>\n      <td>239</td>\n      <td>103</td>\n      <td>...</td>\n      <td>0.714</td>\n      <td>8.0</td>\n      <td>40.0</td>\n      <td>48.0</td>\n      <td>22</td>\n      <td>7</td>\n      <td>9</td>\n      <td>18</td>\n      <td>17</td>\n      <td>-5.0</td>\n    </tr>\n    <tr>\n      <th>...</th>\n      <td>...</td>\n      <td>...</td>\n      <td>...</td>\n      <td>...</td>\n      <td>...</td>\n      <td>...</td>\n      <td>...</td>\n      <td>...</td>\n      <td>...</td>\n      <td>...</td>\n      <td>...</td>\n      <td>...</td>\n      <td>...</td>\n      <td>...</td>\n      <td>...</td>\n      <td>...</td>\n      <td>...</td>\n      <td>...</td>\n      <td>...</td>\n      <td>...</td>\n      <td>...</td>\n    </tr>\n    <tr>\n      <th>3376</th>\n      <td>21983</td>\n      <td>1610612744</td>\n      <td>GOS</td>\n      <td>Golden State Warriors</td>\n      <td>0028300048</td>\n      <td>1983-11-05</td>\n      <td>GOS vs. NYK</td>\n      <td>W</td>\n      <td>240</td>\n      <td>102</td>\n      <td>...</td>\n      <td>0.711</td>\n      <td>25.0</td>\n      <td>18.0</td>\n      <td>43.0</td>\n      <td>20</td>\n      <td>16</td>\n      <td>4</td>\n      <td>17</td>\n      <td>27</td>\n      <td>NaN</td>\n    </tr>\n    <tr>\n      <th>3377</th>\n      <td>21983</td>\n      <td>1610612744</td>\n      <td>GOS</td>\n      <td>Golden State Warriors</td>\n      <td>0028300040</td>\n      <td>1983-11-03</td>\n      <td>GOS @ UTH</td>\n      <td>L</td>\n      <td>240</td>\n      <td>112</td>\n      <td>...</td>\n      <td>0.880</td>\n      <td>27.0</td>\n      <td>26.0</td>\n      <td>53.0</td>\n      <td>22</td>\n      <td>11</td>\n      <td>4</td>\n      <td>19</td>\n      <td>31</td>\n      <td>NaN</td>\n    </tr>\n    <tr>\n      <th>3378</th>\n      <td>21983</td>\n      <td>1610612744</td>\n      <td>GOS</td>\n      <td>Golden State Warriors</td>\n      <td>0028300029</td>\n      <td>1983-11-01</td>\n      <td>GOS @ KCK</td>\n      <td>L</td>\n      <td>240</td>\n      <td>114</td>\n      <td>...</td>\n      <td>0.750</td>\n      <td>12.0</td>\n      <td>18.0</td>\n      <td>30.0</td>\n      <td>29</td>\n      <td>15</td>\n      <td>3</td>\n      <td>16</td>\n      <td>28</td>\n      <td>NaN</td>\n    </tr>\n    <tr>\n      <th>3379</th>\n      <td>21983</td>\n      <td>1610612744</td>\n      <td>GOS</td>\n      <td>Golden State Warriors</td>\n      <td>0028300013</td>\n      <td>1983-10-29</td>\n      <td>GOS vs. POR</td>\n      <td>W</td>\n      <td>240</td>\n      <td>97</td>\n      <td>...</td>\n      <td>0.725</td>\n      <td>12.0</td>\n      <td>31.0</td>\n      <td>43.0</td>\n      <td>21</td>\n      <td>9</td>\n      <td>1</td>\n      <td>16</td>\n      <td>37</td>\n      <td>NaN</td>\n    </tr>\n    <tr>\n      <th>3380</th>\n      <td>21983</td>\n      <td>1610612744</td>\n      <td>GOS</td>\n      <td>Golden State Warriors</td>\n      <td>0028300004</td>\n      <td>1983-10-28</td>\n      <td>GOS @ SEA</td>\n      <td>W</td>\n      <td>240</td>\n      <td>110</td>\n      <td>...</td>\n      <td>0.703</td>\n      <td>21.0</td>\n      <td>26.0</td>\n      <td>47.0</td>\n      <td>26</td>\n      <td>11</td>\n      <td>2</td>\n      <td>19</td>\n      <td>34</td>\n      <td>NaN</td>\n    </tr>\n  </tbody>\n</table>\n<p>3381 rows × 28 columns</p>\n</div>"
     },
     "metadata": {},
     "execution_count": 4
    }
   ],
   "source": [
    "from nba_api.stats.endpoints import leaguegamefinder\n",
    "\n",
    "#this time we convert it to a dataframe in the same line of code\n",
    "GSW_games = leaguegamefinder.LeagueGameFinder(team_id_nullable=GSW_id).get_data_frames()[0]\n",
    "GSW_games"
   ]
  },
  {
   "cell_type": "code",
   "execution_count": 10,
   "metadata": {},
   "outputs": [],
   "source": [
    "df_bron_games_all[0].to_csv(\"text.csv\", index=False)"
   ]
  },
  {
   "cell_type": "code",
   "execution_count": 9,
   "metadata": {},
   "outputs": [
    {
     "output_type": "stream",
     "name": "stdout",
     "text": [
      "<class 'pandas.core.frame.DataFrame'>\n"
     ]
    }
   ],
   "source": [
    "print(type(df_bron_games_all[0]))"
   ]
  },
  {
   "cell_type": "code",
   "execution_count": null,
   "metadata": {},
   "outputs": [],
   "source": []
  }
 ]
}